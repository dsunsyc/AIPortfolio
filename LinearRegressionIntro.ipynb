{
  "nbformat": 4,
  "nbformat_minor": 0,
  "metadata": {
    "colab": {
      "name": "LinearRegressionIntro.ipynb",
      "provenance": [],
      "collapsed_sections": [],
      "authorship_tag": "ABX9TyPSN95Oj7Qs3vVItiV+06o8",
      "include_colab_link": true
    },
    "kernelspec": {
      "name": "python3",
      "display_name": "Python 3"
    }
  },
  "cells": [
    {
      "cell_type": "markdown",
      "metadata": {
        "id": "view-in-github",
        "colab_type": "text"
      },
      "source": [
        "<a href=\"https://colab.research.google.com/github/dsunsyc/AIProjects/blob/master/LinearRegressionIntro.ipynb\" target=\"_parent\"><img src=\"https://colab.research.google.com/assets/colab-badge.svg\" alt=\"Open In Colab\"/></a>"
      ]
    },
    {
      "cell_type": "markdown",
      "metadata": {
        "id": "dhkAYTmQVUni",
        "colab_type": "text"
      },
      "source": [
        "# Overview\n",
        "Linear Regression is a powerful tool that finds a relationship between data points in the form of a best fitting curve. Using the relationship output by the learning algorithm, we are able to predict and estimate values for data that has never been encountered before. "
      ]
    },
    {
      "cell_type": "markdown",
      "metadata": {
        "id": "eLywMOegou6q",
        "colab_type": "text"
      },
      "source": [
        "This notebook is aimed to provide an introduction to Linear Regression. As such, it's not required to have previous knowledge of any ML algorithms, but having some experience with multivariable calculus and linear algebra would be useful!"
      ]
    },
    {
      "cell_type": "markdown",
      "metadata": {
        "id": "ec7j2akKafVB",
        "colab_type": "text"
      },
      "source": [
        "# Environment Setup"
      ]
    },
    {
      "cell_type": "markdown",
      "metadata": {
        "id": "TYykfkM42R64",
        "colab_type": "text"
      },
      "source": [
        "We'll need to import some libraries to allow us to easily implement linear regression with gradient descent from scratch. \n",
        "\n",
        "1. First we'll need Numpy, as it'll allow us to perform matrix multiplication and other linear algebra operation. \n",
        "2. Pyplot from MatPlotLib will allow us to visualize and plot graphs about our model.\n",
        "3. We'll use Pandas to read our data from a csv file stored on a github repo.\n",
        "4. Seaborn will be used on top of pyplot to create some more visually aesthetic plots. \n",
        "\n"
      ]
    },
    {
      "cell_type": "code",
      "metadata": {
        "id": "THFNeopgaeoo",
        "colab_type": "code",
        "colab": {
          "base_uri": "https://localhost:8080/",
          "height": 72
        },
        "outputId": "1df36654-7c69-44dc-97b8-24a9f638f6d9"
      },
      "source": [
        "import numpy as np\n",
        "import matplotlib.pyplot as plt\n",
        "import pandas as pd\n",
        "import seaborn as sns\n",
        "\n",
        "URL = \"https://raw.githubusercontent.com/dsunsyc/AIProjects/master/Abalone/abalone.data.csv\""
      ],
      "execution_count": 1,
      "outputs": [
        {
          "output_type": "stream",
          "text": [
            "/usr/local/lib/python3.6/dist-packages/statsmodels/tools/_testing.py:19: FutureWarning: pandas.util.testing is deprecated. Use the functions in the public API at pandas.testing instead.\n",
            "  import pandas.util.testing as tm\n"
          ],
          "name": "stderr"
        }
      ]
    },
    {
      "cell_type": "markdown",
      "metadata": {
        "id": "Mo7kKnFFrI6o",
        "colab_type": "text"
      },
      "source": [
        "# **1.0 Introduction**"
      ]
    },
    {
      "cell_type": "markdown",
      "metadata": {
        "id": "rGN7nhCxXp-Q",
        "colab_type": "text"
      },
      "source": [
        "## 1.1 Intuition\n",
        "Say you live right next to an ice cream shop. It seems like more people buy ice cream when the day is hot. You decide to record the peak temperature of the day, along with the number of customers you see going into the ice cream shop and end up with the following data. \n",
        "\n",
        "Temp ($^{\\circ}$C) | Num. Customers \n",
        "-- | --\n",
        "15 | 3\n",
        "35 | 9\n",
        "25 | 6\n",
        "20 | 5\n",
        "30 | 5\n"
      ]
    },
    {
      "cell_type": "markdown",
      "metadata": {
        "id": "w1IEoe7vUbFO",
        "colab_type": "text"
      },
      "source": [
        "From a glance it seems obvious that a relationship exists between the day's heat and the number of customers, but it's hard to come up with a detailed idea of their correlation. \n",
        "\n",
        "Plotting the dataset, for low enough dimensions, is an easy way to check for a relationship."
      ]
    },
    {
      "cell_type": "code",
      "metadata": {
        "id": "3tC7mICBaYr1",
        "colab_type": "code",
        "colab": {
          "base_uri": "https://localhost:8080/",
          "height": 369
        },
        "outputId": "d3287fc6-9927-44f0-a36f-5573e8fa525a"
      },
      "source": [
        "temps = [15, 35, 25, 20, 30]\n",
        "customers = [3, 8, 6, 5, 5]\n",
        "sns.set_style(\"darkgrid\")\n",
        "df = pd.DataFrame({\"Temperature\": temps, \"Customers\": customers})\n",
        "ax = sns.lmplot(x=\"Temperature\", y=\"Customers\", data=df, fit_reg=False)\n",
        "plt.show()"
      ],
      "execution_count": 28,
      "outputs": [
        {
          "output_type": "display_data",
          "data": {
            "image/png": "[encoded data removed]",
            "text/plain": [
              "<Figure size 360x360 with 1 Axes>"
            ]
          },
          "metadata": {
            "tags": []
          }
        }
      ]
    },
    {
      "cell_type": "markdown",
      "metadata": {
        "id": "kniib8u5gTqh",
        "colab_type": "text"
      },
      "source": [
        "As such, it's pretty obvious that a linear relationship does exist between the heat of day and number of customers. If we use Seaborn's built in function for fitting and plotting a regression line, we can find a well fitting line for prediction purposes. \n"
      ]
    },
    {
      "cell_type": "code",
      "metadata": {
        "id": "VbOq6P_whr8Q",
        "colab_type": "code",
        "colab": {
          "base_uri": "https://localhost:8080/",
          "height": 369
        },
        "outputId": "bd86cbfc-ebc8-49ca-88f1-1e492e5ccfd1"
      },
      "source": [
        "ax = sns.lmplot(x=\"Temperature\", y=\"Customers\", data=df)\n",
        "plt.show()"
      ],
      "execution_count": 29,
      "outputs": [
        {
          "output_type": "display_data",
          "data": {
            "image/png": "[encoded data removed]",
            "text/plain": [
              "<Figure size 360x360 with 1 Axes>"
            ]
          },
          "metadata": {
            "tags": []
          }
        }
      ]
    },
    {
      "cell_type": "markdown",
      "metadata": {
        "id": "GNsWEbDDilFv",
        "colab_type": "text"
      },
      "source": [
        "The line of best fit that lmplot found allows us now to predict the amount of frozen dairy consumers given a certain temperature. For example, if the peak temperature was 32.5 $^{\\circ}$C, we would estimate seeing around 7 ice cream shop customers! "
      ]
    },
    {
      "cell_type": "markdown",
      "metadata": {
        "id": "d6wYac-Zlppn",
        "colab_type": "text"
      },
      "source": [
        "But how do we actually find the best model for our data? We use Linear Regression."
      ]
    },
    {
      "cell_type": "markdown",
      "metadata": {
        "id": "30E3IdZLmAUX",
        "colab_type": "text"
      },
      "source": [
        "## 1.2 Evaluation and Cost Function\n",
        "Linear Regression, like many other learning algorithms, aims to minimize a cost function over a dataset by tweaking certain parameters (more on that in section 1.4). Intuitively, a good model would have as little deviation as possible to the given data. For instance, even though we observed only 5 customers when the temperature was 30 $^{\\circ}$C, our model from above would predict to see ~6 people instead. "
      ]
    },
    {
      "cell_type": "markdown",
      "metadata": {
        "id": "9U2AhkRPpIl9",
        "colab_type": "text"
      },
      "source": [
        "We can represent the **cost** of a single training example to be $(predictVal - trueVal)^2$, with the square to account for negative values of $predictVal - trueVal$. We take the average cost of each point in the dataset and that output would be our cost function!"
      ]
    },
    {
      "cell_type": "markdown",
      "metadata": {
        "id": "N58-y3BSq_ws",
        "colab_type": "text"
      },
      "source": [
        "### Mathematically:\n",
        "\n",
        "### $J(\\theta) = \\frac{1}{2m}*$$\\sum_{i=1}^{m} (h_\\theta(x_i) - y_i)^2$,\n",
        "\n",
        "where \n",
        "*   $J(\\theta)$ represents the cost function\n",
        "*   $\\theta$ represents the parameters of our model\n",
        "*   $m$ is the number of points we have in our dataset (ice cream example would have $m=5$)\n",
        "*   $h_\\theta(x_i)$ represents our model's predicted value of the $i$th point in our dataset \n",
        "*   $y_i$ represents the true value of the $i$th point in our dataset\n",
        "\n"
      ]
    },
    {
      "cell_type": "markdown",
      "metadata": {
        "id": "5IpZxYybaswd",
        "colab_type": "text"
      },
      "source": [
        "## 1.3 Prediction\n",
        "The task of prediction is actually quite simple. Going back to the ice cream example, our best fitting line was about $y = .2x + .4$, which would represent our hypothesis ($h_\\theta()$). But we have to find a way to represent that equation in our model. In that example, our model only predicted on one variable, the temperature of the day. However, for a more complex dataset, you can predict based on temperature, whether or not a sale is happening, the month of the year, etc. All those features take up their own variables, and thus our input to the model is a vector. We can extract all the variables into a vector called $x_i$ and all the coefficients that represent our model into vector $\\theta$. \n",
        "\n",
        "$\\theta$ in our ice cream example was [.4, .2] which we feed vector [$x_0$, $x_1$] in to predict our value. $x^0$ should just be thought of as the y-intercept variable, and is always 1. So even when our model just predicts on one variable, $x$ is still a vector with the first value being 1. Putting this together, we can represent the model by vector [.4, .2], and when given input [1, $x_1$] calculates the value as a dot product of the two vectors, $.4*1 + .2*x^1$. Dot product of vector [$v_1, v_2, ..., v_n$] and [$u_1, u_2, ..., u_n$] is the sum of all pair products: $v_1*u_1 + v_2*u_2 + ... + v_n*u_n$."
      ]
    },
    {
      "cell_type": "markdown",
      "metadata": {
        "id": "pV6szVyOqLOy",
        "colab_type": "text"
      },
      "source": [
        "The code below represents predicting on our ice cream example. You can try out different values of theta, as well as different values of the input to see how it affects the prediction. "
      ]
    },
    {
      "cell_type": "code",
      "metadata": {
        "id": "MLyF5F-Rp22m",
        "colab_type": "code",
        "colab": {
          "base_uri": "https://localhost:8080/",
          "height": 35
        },
        "outputId": "66d4a83b-1fd9-4f2d-f6cc-400802fd0f81"
      },
      "source": [
        "input = 17.5\n",
        "theta = np.array([.4, .2])\n",
        "x = np.array([1, input])\n",
        "\n",
        "pred = x.dot(theta)\n",
        "print(\"The predicted number of customers given temp \" + str(input) + \" is: \" + str(pred))"
      ],
      "execution_count": 31,
      "outputs": [
        {
          "output_type": "stream",
          "text": [
            "The predicted number of customers given temp 17.5 is: 3.9\n"
          ],
          "name": "stdout"
        }
      ]
    },
    {
      "cell_type": "markdown",
      "metadata": {
        "id": "9FiDbyF1bPKI",
        "colab_type": "text"
      },
      "source": [
        "## 1.4 Learning\n"
      ]
    },
    {
      "cell_type": "markdown",
      "metadata": {
        "id": "RJilTK2pXIFk",
        "colab_type": "text"
      },
      "source": [
        "Now that we have a well defined cost function, we can have our model learn to fit the data. As stated above, the objective of our learning is to minimize the cost of our parameters on the given data. "
      ]
    },
    {
      "cell_type": "markdown",
      "metadata": {
        "id": "hpbKo_kia1HT",
        "colab_type": "text"
      },
      "source": [
        "We use gradient descent to iteratively have our values of $\\theta$ converge to their optimal values. As hinted by the name, gradient descent is a process where we aim to reach the minimum cost value for our parameter $\\theta$ based on the gradient (also known as the slope) of the cost function. \n",
        "\n",
        "![alt text](http://rasbt.github.io/mlxtend/user_guide/general_concepts/gradient-optimization_files/ball.png)\n",
        "Image source: http://rasbt.github.io/mlxtend/user_guide/general_concepts/gradient-optimization/\n",
        "\n",
        "Following our graph from above, if our $\\theta_0$ was initialized to the rightmost side of the graph, we notice that the slope at that point is steeply positive (positive slope of large magnitute). Since we're trying to arrive at a minimum, we update $\\theta_0$ to go in the direction opposite to the slope. "
      ]
    },
    {
      "cell_type": "markdown",
      "metadata": {
        "id": "-XUO3XJYoEtA",
        "colab_type": "text"
      },
      "source": [
        "## Mathematically:\n",
        "\n",
        "while not converged:\n",
        "> for j = 1:n:\n",
        ">> $temp_j = \\theta_j - \\alpha*\\frac{\\delta}{\\delta\\theta_j}J(\\theta)$\n",
        "\n",
        "> for j = 1:n:\n",
        ">> $\\theta_j = temp_j$\n",
        "\n",
        "\n",
        "\n",
        "*   $n$ represents the total number of weights in $\\theta$ \n",
        "*   $\\alpha$ represents the learning rate, a constant that dictates how large a step taken per iteration would be\n",
        "*   $\\frac{\\delta}{\\delta\\theta_j}J(\\theta)$ represents the partial derivative of the cost function with respect to $\\theta_j$\n",
        "\n"
      ]
    },
    {
      "cell_type": "markdown",
      "metadata": {
        "id": "fBpIXqNHwDY9",
        "colab_type": "text"
      },
      "source": [
        "### Let's try to apply what we learned on a real dataset."
      ]
    },
    {
      "cell_type": "markdown",
      "metadata": {
        "id": "w1X-YxJWrkag",
        "colab_type": "text"
      },
      "source": [
        "# 2.0 Applying to a Real Example"
      ]
    },
    {
      "cell_type": "markdown",
      "metadata": {
        "id": "oiCpyV5KUdBy",
        "colab_type": "text"
      },
      "source": [
        "Scientists have been researching a type of shellfish called abalone and have accumulated a large set of measurements (including sex, length, diameter) for the individuals they have found. Abalone, like trees, require a meticulous and time consuming process of counting rings on their shells to determine their age. The scientists speculate that there is a relationship to be found among those physical traits and the age of the abalone. Let's try and find said relation."
      ]
    },
    {
      "cell_type": "markdown",
      "metadata": {
        "id": "lZJlIcfO66qi",
        "colab_type": "text"
      },
      "source": [
        "## 2.1 Loading the Dataset and Preprocessing\n"
      ]
    },
    {
      "cell_type": "markdown",
      "metadata": {
        "id": "y_r3fLyhwYSa",
        "colab_type": "text"
      },
      "source": [
        "First, we have to obtain the dataset that we'd be working with. The raw data is stored in the URL defined in setup. It's always a good idea to shuffle the dataset before you split it or train with it."
      ]
    },
    {
      "cell_type": "code",
      "metadata": {
        "id": "YmtTKg6RVPjx",
        "colab_type": "code",
        "colab": {
          "base_uri": "https://localhost:8080/",
          "height": 139
        },
        "outputId": "6a749062-0e28-4dba-9860-c096de6370a5"
      },
      "source": [
        "df = pd.read_csv(URL)\n",
        "df = df.sample(frac=1).reset_index(drop=True).to_numpy() #4176x9\n",
        "df"
      ],
      "execution_count": 5,
      "outputs": [
        {
          "output_type": "execute_result",
          "data": {
            "text/plain": [
              "array([['F', 0.45, 0.345, ..., 0.095, 0.135, 9],\n",
              "       ['F', 0.675, 0.52, ..., 0.3055, 0.37, 9],\n",
              "       ['M', 0.75, 0.55, ..., 0.397, 0.445, 11],\n",
              "       ...,\n",
              "       ['F', 0.625, 0.52, ..., 0.35100000000000003, 0.375, 11],\n",
              "       ['M', 0.465, 0.355, ..., 0.09699999999999999, 0.1395, 8],\n",
              "       ['F', 0.515, 0.405, ..., 0.1405, 0.177, 10]], dtype=object)"
            ]
          },
          "metadata": {
            "tags": []
          },
          "execution_count": 5
        }
      ]
    },
    {
      "cell_type": "markdown",
      "metadata": {
        "id": "LGajnaf-xGp3",
        "colab_type": "text"
      },
      "source": [
        "Now we have our numpy array containing all the data from the abalone. \n",
        "Each row represents a different abalone, and the columns represent different measurements:\n",
        "\n",
        "0. Sex | 1. Length (mm) | 2. Diameter (mm) | 3. Height (mm) | 4. Whole weight (g) | 5. Schucked Weight (g) | 6. Viscera Weight (g) | 7. Shell Weight (g) | 8. Rings (Num Rings Correlates to Age)\n",
        "-- | -- | -- | -- | -- | -- | -- | -- | -- \n"
      ]
    },
    {
      "cell_type": "markdown",
      "metadata": {
        "id": "3o-4svDnyYLu",
        "colab_type": "text"
      },
      "source": [
        "We want to have all values in the array be numerical, so we map all the sexes to integer values."
      ]
    },
    {
      "cell_type": "code",
      "metadata": {
        "id": "phpu7XOUyi5r",
        "colab_type": "code",
        "colab": {
          "base_uri": "https://localhost:8080/",
          "height": 121
        },
        "outputId": "c4c5f8d2-4a99-4f43-b9ac-7519680169d3"
      },
      "source": [
        "sex_to_int = {'F':0, 'M':1, 'I':2}\n",
        "convert = lambda x: sex_to_int[x]\n",
        "sex_col = df[:,0]\n",
        "vfunc = np.vectorize(convert)\n",
        "df[:,0] = vfunc(sex_col)\n",
        "df[0:5,:]"
      ],
      "execution_count": 6,
      "outputs": [
        {
          "output_type": "execute_result",
          "data": {
            "text/plain": [
              "array([[0, 0.45, 0.345, 0.12, 0.4165, 0.1655, 0.095, 0.135, 9],\n",
              "       [0, 0.675, 0.52, 0.175, 1.494, 0.7365, 0.3055, 0.37, 9],\n",
              "       [1, 0.75, 0.55, 0.18, 1.893, 0.9420000000000001, 0.397, 0.445, 11],\n",
              "       [2, 0.41, 0.3, 0.1, 0.282, 0.1255, 0.057, 0.0875, 7],\n",
              "       [2, 0.275, 0.2, 0.055, 0.0925, 0.038, 0.021, 0.026000000000000002,\n",
              "        4]], dtype=object)"
            ]
          },
          "metadata": {
            "tags": []
          },
          "execution_count": 6
        }
      ]
    },
    {
      "cell_type": "markdown",
      "metadata": {
        "id": "cNGLhclYzTTS",
        "colab_type": "text"
      },
      "source": [
        "Next, we split up our data into 2 sets, training and test. We train our model on the training set, and then measure performance on the test set. A generally accepted ratio of training : test data is 7 : 3. \n",
        "\n",
        "We'll also cast all the data in the matrix to be type np.float64. For y_train and y_test, it's important to reshape the data into a vector of shape (m, 1), which is done by the reshape() function, in order to properly do matrix operations. The -1 in the argument means that the function will infer what size that will be."
      ]
    },
    {
      "cell_type": "code",
      "metadata": {
        "id": "nB7tg0tww34a",
        "colab_type": "code",
        "colab": {}
      },
      "source": [
        "train = df[:2923, :8].astype(np.float64)\n",
        "test = df[2923:, :8].astype(np.float64)\n",
        "y_train = df[:2923, 8].astype(np.float64).reshape((-1,1))\n",
        "y_test = df[2923:, 8].astype(np.float64).reshape((-1,1))"
      ],
      "execution_count": 7,
      "outputs": []
    },
    {
      "cell_type": "markdown",
      "metadata": {
        "id": "cIZI8hlE2iIa",
        "colab_type": "text"
      },
      "source": [
        "## 2.2 $\\theta$ Initialization\n",
        "\n",
        "We initialize $\\theta$ to be a vector of zeros. In order to be able to dot product theta with each example in our dataset, it has to be size (num features,1).\n",
        "We'll pass in n (num features) as a parameter to the function."
      ]
    },
    {
      "cell_type": "code",
      "metadata": {
        "id": "rzEew65g2hcS",
        "colab_type": "code",
        "colab": {}
      },
      "source": [
        "def init_theta(n):\n",
        "  return np.zeros((n+1, 1))"
      ],
      "execution_count": 8,
      "outputs": []
    },
    {
      "cell_type": "markdown",
      "metadata": {
        "id": "YLlEcVKHsFte",
        "colab_type": "text"
      },
      "source": [
        "## 2.3 Normalization"
      ]
    },
    {
      "cell_type": "markdown",
      "metadata": {
        "id": "B6N_jfZyz14a",
        "colab_type": "text"
      },
      "source": [
        "An optimization technique to speed up the learning process is to use feature normalization. This centers all the training data at the origin as well as scaling it based on its standard deviation. \n",
        "\n",
        "**It's important to save the means and standard deviations of each feature, as when we try to predict using our model later on, we'd have to normalize those vectors as well.**"
      ]
    },
    {
      "cell_type": "code",
      "metadata": {
        "id": "a0TUWgrKBalX",
        "colab_type": "code",
        "colab": {}
      },
      "source": [
        "def feature_normalize(X):\n",
        "    mean_arr = X.mean(axis=0)\n",
        "    std_arr = X.std(axis=0)\n",
        "    return ((X-mean_arr)/(std_arr), mean_arr, std_arr)"
      ],
      "execution_count": 9,
      "outputs": []
    },
    {
      "cell_type": "markdown",
      "metadata": {
        "id": "t5NhkJx7sG8m",
        "colab_type": "text"
      },
      "source": [
        "## 2.4 Cost function\n",
        "\n",
        "We now implement our cost function, which returns a scalar value of average cost for our predictions on the dataset. It takes in parameters X, values, theta. X is the training set that we use, values are the labels or true values of those examples, and theta are the parameters (weights) for our model."
      ]
    },
    {
      "cell_type": "code",
      "metadata": {
        "id": "y5PODsTDCE4z",
        "colab_type": "code",
        "colab": {}
      },
      "source": [
        "def cost(X, values, theta):\n",
        "    m,n = X.shape\n",
        "    assert(theta.shape == (n,1))\n",
        "    hypo = X.dot(theta)     #Computes the predicted value by finding the dot product between X and Theta\n",
        "    diff = (hypo-values)**2 #Computes the square error of each prediction with actual value\n",
        "    return diff.sum()/(2*m) "
      ],
      "execution_count": 32,
      "outputs": []
    },
    {
      "cell_type": "markdown",
      "metadata": {
        "id": "w4MnTtlD3zMy",
        "colab_type": "text"
      },
      "source": [
        "We can now test our cost function, and see it work on our dataset. \n",
        "\n",
        "We'll initialize our $\\theta$ and compute the cost that it has on our training dataset. \n",
        "\n",
        "If everything is set up properly, you should see this output a cost of ~55."
      ]
    },
    {
      "cell_type": "code",
      "metadata": {
        "id": "EO34GOz94B9v",
        "colab_type": "code",
        "colab": {
          "base_uri": "https://localhost:8080/",
          "height": 35
        },
        "outputId": "d4b81f6f-ea75-4968-8927-b5889897e7fa"
      },
      "source": [
        "train1, mean, std = feature_normalize(train)\n",
        "m, n = train1.shape\n",
        "theta = init_theta(n)\n",
        "weighted_train =  np.insert(train1, 0, 1, axis=1) #We're adding in the x0, the 1 in front of each training example\n",
        "cost(weighted_train, y_train, theta)"
      ],
      "execution_count": 35,
      "outputs": [
        {
          "output_type": "execute_result",
          "data": {
            "text/plain": [
              "54.91806363325351"
            ]
          },
          "metadata": {
            "tags": []
          },
          "execution_count": 35
        }
      ]
    },
    {
      "cell_type": "markdown",
      "metadata": {
        "id": "JkfV7q7WsI0Y",
        "colab_type": "text"
      },
      "source": [
        "## 2.5 Gradient descent/Learning"
      ]
    },
    {
      "cell_type": "markdown",
      "metadata": {
        "id": "zETGnIHLS5va",
        "colab_type": "text"
      },
      "source": [
        "Gradient descent is the actual learning part of the algorithm. \n",
        "It takes in parameters X: our mxn matrix of examples, values: our mx1 array of true values, theta: the parameters for our model, iters: the number of iterations to run gradient descent for, alpha: the learning rate. It outputs a list of costs for each iteration. While gradient descent runs, it'll update (mutate) the parameter theta to achieve lower and lower costs. "
      ]
    },
    {
      "cell_type": "code",
      "metadata": {
        "id": "9YgpsfFSNGTp",
        "colab_type": "code",
        "colab": {}
      },
      "source": [
        "def gradient_descent(X, values, theta, iters, alpha):\n",
        "    m,n = X.shape \n",
        "    assert(theta.shape == (n, 1))\n",
        "    history = [None]*iters                     #initialize list of costs\n",
        "    for iter in range(iters):\n",
        "        hypo = X.dot(theta)                    #calculates prediction (mx1 matrix)\n",
        "        diff = hypo - values                   #finds difference (mx1 matrix)\n",
        "        grad = (alpha/m)*(X.T.dot(diff))       #computes the partial derivative with respect to each thetaj \n",
        "        theta -= grad                          #update theta\n",
        "        history[iter] = cost(X, values, theta) #record cost into history\n",
        "    return history"
      ],
      "execution_count": 36,
      "outputs": []
    },
    {
      "cell_type": "markdown",
      "metadata": {
        "id": "aRLqrEqlVSxI",
        "colab_type": "text"
      },
      "source": [
        "Now that we have a working gradient descent algorithm, we can try and learn better values for theta. \n",
        "\n",
        "Run the cell below and you should see a final value of hist being ~2.5, which is about a 20x improvement from our initial theta cost!"
      ]
    },
    {
      "cell_type": "code",
      "metadata": {
        "id": "Ukf-Ata-VRws",
        "colab_type": "code",
        "colab": {
          "base_uri": "https://localhost:8080/",
          "height": 35
        },
        "outputId": "562ae7af-b238-4399-a002-549fcfcb37e2"
      },
      "source": [
        "alpha = .1\n",
        "iters = 100\n",
        "# weighted_train.dot(theta).shape\n",
        "theta = init_theta(n)\n",
        "weighted_train = np.insert(train1, 0, 1, axis=1)\n",
        "hist = gradient_descent(weighted_train, y_train, theta, iters, alpha)\n",
        "hist[-1]"
      ],
      "execution_count": 37,
      "outputs": [
        {
          "output_type": "execute_result",
          "data": {
            "text/plain": [
              "2.6290607595192665"
            ]
          },
          "metadata": {
            "tags": []
          },
          "execution_count": 37
        }
      ]
    },
    {
      "cell_type": "markdown",
      "metadata": {
        "id": "1lhgVHrwZA_u",
        "colab_type": "text"
      },
      "source": [
        "You can adjust the values for alpha (learning rate) and iters (the number of iterations gradient descent runs for). Generally you'll find a smaller alpha will result in smaller steps, and require more iterations to achieve low cost. However, although a larger alpha \"learns\" faster, it's also prone to overshooting, and can increase the cost/error!\n",
        "\n",
        "*Tip: Try adjusting alpha by factors of 3. .03 -> .1 -> .3 -> 1 -> 3 -> 10*"
      ]
    },
    {
      "cell_type": "markdown",
      "metadata": {
        "id": "GAZhl2OHsQnM",
        "colab_type": "text"
      },
      "source": [
        "## Evaluation"
      ]
    },
    {
      "cell_type": "markdown",
      "metadata": {
        "id": "XMRZFvkI04fW",
        "colab_type": "text"
      },
      "source": [
        "We now have our model's $\\theta$ and history. A simple way to check if the model has learned properly is to plot the cost over iterations and see that it has decreased. "
      ]
    },
    {
      "cell_type": "code",
      "metadata": {
        "id": "umEaXjb0ZSEM",
        "colab_type": "code",
        "colab": {}
      },
      "source": [
        "def plot_cost(history):\n",
        "    iters = list(range(len(hist)))\n",
        "    df = pd.DataFrame({\"Error\": list(hist), \"Iters\": iters})\n",
        "    ax = sns.lmplot(x=\"Iters\", y=\"Error\", data=df, fit_reg=False)\n",
        "    plt.show()"
      ],
      "execution_count": 38,
      "outputs": []
    },
    {
      "cell_type": "markdown",
      "metadata": {
        "id": "Q45mDzlr1P0g",
        "colab_type": "text"
      },
      "source": [
        "If everything has been done correctly, you should see the error (cost) converging to $<$5. If not, try and tweak around with learning rate (alpha) and your number of iterations (iters) in the gradient descent step. "
      ]
    },
    {
      "cell_type": "code",
      "metadata": {
        "id": "Eu7RJsmcaAFz",
        "colab_type": "code",
        "colab": {
          "base_uri": "https://localhost:8080/",
          "height": 369
        },
        "outputId": "e94643ba-127c-468f-99f3-192b022087b6"
      },
      "source": [
        "plot_cost(hist)"
      ],
      "execution_count": 39,
      "outputs": [
        {
          "output_type": "display_data",
          "data": {
            "image/png": "[encoded data removed]",
            "text/plain": [
              "<Figure size 360x360 with 1 Axes>"
            ]
          },
          "metadata": {
            "tags": []
          }
        }
      ]
    },
    {
      "cell_type": "markdown",
      "metadata": {
        "id": "Amq7xojix7hp",
        "colab_type": "text"
      },
      "source": [
        "Now that we have our model, we can use our testing set to validate our results. Since we trained our model on a separate subset of data, it's common to see that the cost for our test set is slightly higher than our training set. \n",
        "\n",
        "Since our model performed well on our training set, if we see a large difference in performance on our test set it usually means the model has overfit the training data, and is not generalized enough to fit new data. If our model didn't perform well on training data and test data, it usually means the model has underfit and is too simple to capture the complexity in the data. "
      ]
    },
    {
      "cell_type": "code",
      "metadata": {
        "id": "URjFNpvy2MZ-",
        "colab_type": "code",
        "colab": {
          "base_uri": "https://localhost:8080/",
          "height": 35
        },
        "outputId": "69bf636b-5a4f-4723-911e-5cbece62a7e5"
      },
      "source": [
        "weighted_test = np.insert(test, 0, 1, axis=1) #weighted_test (mxn+1)\n",
        "cost(weighted_test, y_test, theta)\n"
      ],
      "execution_count": 40,
      "outputs": [
        {
          "output_type": "execute_result",
          "data": {
            "text/plain": [
              "4.3931748703505"
            ]
          },
          "metadata": {
            "tags": []
          },
          "execution_count": 40
        }
      ]
    },
    {
      "cell_type": "markdown",
      "metadata": {
        "id": "7D2NuGpNsK5D",
        "colab_type": "text"
      },
      "source": [
        "## Prediction\n",
        "\n",
        "Prediction is as simple as computing the dot product between $\\theta$ and $x$. However, since we normalized our input vector, it's important to normalize any vector we try and predict, or the weights would be off. We also have to add the bias variable (prepending a 1 to the beginning of our input vector). "
      ]
    },
    {
      "cell_type": "code",
      "metadata": {
        "id": "KTSO8Tc6X-Z2",
        "colab_type": "code",
        "colab": {}
      },
      "source": [
        "def predict(example, theta, use_age, mean, std):\n",
        "    vector = (example - mean)/std\n",
        "    vector = np.insert(vector, 0, 1) #prepend one in front of the input vector\n",
        "    pred = vector.dot(theta) #compute dot product\n",
        "    return pred + 1.5 if use_age else pred #if we want age then we add 1.5 to result, else return number of rings"
      ],
      "execution_count": 41,
      "outputs": []
    },
    {
      "cell_type": "markdown",
      "metadata": {
        "id": "x-9uGHTZ4yhs",
        "colab_type": "text"
      },
      "source": [
        "Finally we can use our model to estimate the age of our abalone. Let's do some predictions!\n",
        "\n",
        "We'll use some sample data with some small tweaks. "
      ]
    },
    {
      "cell_type": "code",
      "metadata": {
        "id": "jlTHw3lj5O_L",
        "colab_type": "code",
        "colab": {
          "base_uri": "https://localhost:8080/",
          "height": 69
        },
        "outputId": "88d607e3-178d-44ec-d00f-b24dee139f79"
      },
      "source": [
        "ex1 = np.array(['F', .51, .28, .135, .63, .23, .142, .18]) #should predict near 9\n",
        "ex2 = np.array(['M', .44, .365, .125, .52, .23, .1, .16]) #should predict near 10\n",
        "ex3 = np.array(['I', .325, .245, .07, .16, .07, .025, .045]) #should predict near 7\n",
        "\n",
        "ex1[0] = sex_to_int[ex1[0]]\n",
        "ex2[0] = sex_to_int[ex2[0]]\n",
        "ex3[0] = sex_to_int[ex3[0]]\n",
        "\n",
        "ex1 = ex1.astype(np.float64)\n",
        "ex2 = ex2.astype(np.float64)\n",
        "ex3 = ex3.astype(np.float64)\n",
        "\n",
        "pred1 = predict(ex1, theta, True, mean, std)\n",
        "pred2 = predict(ex2, theta, True, mean, std)\n",
        "pred3 = predict(ex3, theta, True, mean, std)\n",
        " \n",
        "print(\"First prediction should be near 9: \" + str(pred1))\n",
        "print(\"Second prediction should be near 10: \" + str(pred2))\n",
        "print(\"Third prediction should be near 7: \" + str(pred3))"
      ],
      "execution_count": 42,
      "outputs": [
        {
          "output_type": "stream",
          "text": [
            "First prediction should be near 9: [11.04980174]\n",
            "Second prediction should be near 10: [10.65726584]\n",
            "Third prediction should be near 7: [8.06920319]\n"
          ],
          "name": "stdout"
        }
      ]
    },
    {
      "cell_type": "markdown",
      "metadata": {
        "id": "3FjGlAiHb90P",
        "colab_type": "text"
      },
      "source": [
        "As you can see, the predictions aren't quite perfect, but they can get pretty close!"
      ]
    },
    {
      "cell_type": "markdown",
      "metadata": {
        "id": "ikFfDJoBCn5H",
        "colab_type": "text"
      },
      "source": [
        "# 3.0 Conclusion"
      ]
    },
    {
      "cell_type": "markdown",
      "metadata": {
        "id": "r0HFLebXCtUS",
        "colab_type": "text"
      },
      "source": [
        "Linear Regression is powerful learning algorithm that finds relationships between data. Given a well constructed set of data, linear regression is able to output a fairly accurate model which can be used to predict values of never-before seen examples. However, Linear Regression isn't all powerful, often struggling to capture complex, non-linear relationships. However, when used on an appropriate dataset, Linear Regression is an incredibly reliable and efficient way to create a model of the data.  "
      ]
    },
    {
      "cell_type": "markdown",
      "metadata": {
        "id": "55nmxBZuCzrz",
        "colab_type": "text"
      },
      "source": [
        "# 4.0 What's Next?"
      ]
    },
    {
      "cell_type": "markdown",
      "metadata": {
        "id": "QS3ilw7PC2st",
        "colab_type": "text"
      },
      "source": [
        "## 4.1 Improving Model Accuracy\n",
        "Although our final model achieved decently accurate results, there are still ways to improve it. \n",
        "\n",
        "* Let gradient descent run for more iterations. However, as you can see with the cost plot, the cost eventually converges to a value where increasing the iterations has a negligible increase to accuracy.\n",
        "* Increase the number of training examples, so outliers and rare values have less of an impact.  \n",
        "* Feature engineering, which is trying to add features that capture more complex relationships between data.\n",
        "* Implement a polynomial linear regression, where instead of having the model output a hyperplane, the model could generate non-linear surfaces as well. This is a type of feature engineering. \n",
        "\n",
        "## 4.2 Moving On\n",
        "If you're learning ML for the first time, I'd recommend spending as much time as needed to solidify your understanding of linear regression. It's a powerful foundation to have, and many other learning algorithms share similar traits/parts. After that, you should explore other supervised learning algorithms, such Logistic Regression, before moving onto neural networks and unsupervised algorithms. Specifically, check out Andrew Ng's course on Machine Learning on Coursera, it's a great resource for beginners and makes things very easy to digest! https://www.coursera.org/learn/machine-learning\n"
      ]
    },
    {
      "cell_type": "markdown",
      "metadata": {
        "id": "xmwbLd_Iitn2",
        "colab_type": "text"
      },
      "source": [
        "If you've made it this far, thank you so much for stepping through this colab notebook of mine! I made it mainly to try and improve my own understanding of this fundamental ML algorithm, and hopefully will have more to come! "
      ]
    }
  ]
}